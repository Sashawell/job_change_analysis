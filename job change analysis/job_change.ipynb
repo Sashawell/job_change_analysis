{
 "cells": [
  {
   "cell_type": "markdown",
   "id": "1fea0576-379b-4c88-ac9d-878f899c7a72",
   "metadata": {},
   "source": [
    "# Как город, образование, пол и тд влияет на кол-во увольнений у программистов"
   ]
  },
  {
   "cell_type": "markdown",
   "id": "3203cb9b-3446-4691-b6b3-cc32a60c4a15",
   "metadata": {},
   "source": [
    "### Определяем цели для проекта\n",
    "#### - Узнать в каких 3 городах живет большинство программистов\n",
    "#### - Узнать с индексом каких городов живет большинство программистов \n",
    "#### - Распределить людей по гендеру и в каждом гендоре расчитать процент того, сколько людей хотят уволиться(распределить их по уровню образования дополнительно? также по опыту)\n",
    "#### - Добавить визуализацию по важным метрикам"
   ]
  },
  {
   "cell_type": "markdown",
   "id": "2569e762-ac36-4221-bafb-1486ae22f664",
   "metadata": {},
   "source": [
    "## Импортируем нужные библиотеки "
   ]
  },
  {
   "cell_type": "code",
   "execution_count": 20,
   "id": "ff122050-76ce-4049-930d-de239edb4a6b",
   "metadata": {},
   "outputs": [],
   "source": [
    "#! pip install Ipython\n",
    "#! pip install matplotlib"
   ]
  },
  {
   "cell_type": "code",
   "execution_count": 23,
   "id": "a4cbec25-b23f-436b-ba22-8b2cb9d768fa",
   "metadata": {},
   "outputs": [],
   "source": [
    "import pandas as pd\n",
    "import numpy as np\n",
    "# Для визуализации\n",
    "import matplotlib \n",
    "import matplotlib.pyplot as plt\n",
    "plt.style.use('default')\n",
    "\n",
    "from IPython.display import Markdown, display"
   ]
  },
  {
   "cell_type": "code",
   "execution_count": 24,
   "id": "ee667409-f9db-4a68-86d8-fa1558770cc6",
   "metadata": {},
   "outputs": [],
   "source": [
    "# Делаем функцию для красивого вывода текста \n",
    "\n",
    "def printmd(string):\n",
    "    display(Markdown(string))"
   ]
  },
  {
   "cell_type": "markdown",
   "id": "87076db8-94cb-4fc1-ae7b-55c9db96ef9f",
   "metadata": {},
   "source": [
    "# Ссылка на Dataset: \n",
    "https://www.kaggle.com/datasets/arashnic/hr-analytics-job-change-of-data-scientists/suggestions?status=pending&yourSuggestions=true"
   ]
  },
  {
   "cell_type": "code",
   "execution_count": 25,
   "id": "5af781ea-ca9a-4def-857c-d5ecb95ff1a9",
   "metadata": {},
   "outputs": [],
   "source": [
    "df = pd.read_csv(r\"C:\\Users\\Sasha\\OneDrive\\Рабочий стол\\archive\\aug_train.csv\")"
   ]
  },
  {
   "cell_type": "markdown",
   "id": "b5007f51-4209-4963-a85a-c9951e983064",
   "metadata": {},
   "source": [
    "# Информация по столбцам"
   ]
  },
  {
   "cell_type": "markdown",
   "id": "5c256da7-70af-4ca2-b55d-bda390ab94c2",
   "metadata": {},
   "source": [
    "###### enrollee_id : Unique ID for candidate.\n",
    "###### city: City code.\n",
    "###### city_ development _index : Developement index of the city (scaled).\n",
    "###### gender: Gender of candidate\n",
    "###### relevent_experience: Relevant experience of candidate\n",
    "###### enrolled_university: Type of University course enrolled if any\n",
    "###### education_level: Education level of candidate\n",
    "###### major_discipline :Education major discipline of candidate\n",
    "###### experience: Candidate total experience in years\n",
    "###### company_size: No of employees in current employer's company\n",
    "###### company_type : Type of current employer\n",
    "###### last_new_job: Difference in years between previous job and current job\n",
    "###### training_hours: training hours completed\n",
    "###### target: 0 – Not looking for job change, 1 – Looking for a job change"
   ]
  },
  {
   "cell_type": "code",
   "execution_count": 26,
   "id": "2885274a-577b-4008-ab8d-1ecd501de821",
   "metadata": {},
   "outputs": [
    {
     "data": {
      "text/html": [
       "<div>\n",
       "<style scoped>\n",
       "    .dataframe tbody tr th:only-of-type {\n",
       "        vertical-align: middle;\n",
       "    }\n",
       "\n",
       "    .dataframe tbody tr th {\n",
       "        vertical-align: top;\n",
       "    }\n",
       "\n",
       "    .dataframe thead th {\n",
       "        text-align: right;\n",
       "    }\n",
       "</style>\n",
       "<table border=\"1\" class=\"dataframe\">\n",
       "  <thead>\n",
       "    <tr style=\"text-align: right;\">\n",
       "      <th></th>\n",
       "      <th>enrollee_id</th>\n",
       "      <th>city</th>\n",
       "      <th>city_development_index</th>\n",
       "      <th>gender</th>\n",
       "      <th>relevent_experience</th>\n",
       "      <th>enrolled_university</th>\n",
       "      <th>education_level</th>\n",
       "      <th>major_discipline</th>\n",
       "      <th>experience</th>\n",
       "      <th>company_size</th>\n",
       "      <th>company_type</th>\n",
       "      <th>last_new_job</th>\n",
       "      <th>training_hours</th>\n",
       "      <th>target</th>\n",
       "    </tr>\n",
       "  </thead>\n",
       "  <tbody>\n",
       "    <tr>\n",
       "      <th>0</th>\n",
       "      <td>8949</td>\n",
       "      <td>city_103</td>\n",
       "      <td>0.920</td>\n",
       "      <td>Male</td>\n",
       "      <td>Has relevent experience</td>\n",
       "      <td>no_enrollment</td>\n",
       "      <td>Graduate</td>\n",
       "      <td>STEM</td>\n",
       "      <td>&gt;20</td>\n",
       "      <td>NaN</td>\n",
       "      <td>NaN</td>\n",
       "      <td>1</td>\n",
       "      <td>36</td>\n",
       "      <td>1.0</td>\n",
       "    </tr>\n",
       "    <tr>\n",
       "      <th>1</th>\n",
       "      <td>29725</td>\n",
       "      <td>city_40</td>\n",
       "      <td>0.776</td>\n",
       "      <td>Male</td>\n",
       "      <td>No relevent experience</td>\n",
       "      <td>no_enrollment</td>\n",
       "      <td>Graduate</td>\n",
       "      <td>STEM</td>\n",
       "      <td>15</td>\n",
       "      <td>50-99</td>\n",
       "      <td>Pvt Ltd</td>\n",
       "      <td>&gt;4</td>\n",
       "      <td>47</td>\n",
       "      <td>0.0</td>\n",
       "    </tr>\n",
       "  </tbody>\n",
       "</table>\n",
       "</div>"
      ],
      "text/plain": [
       "   enrollee_id      city  city_development_index gender  \\\n",
       "0         8949  city_103                   0.920   Male   \n",
       "1        29725   city_40                   0.776   Male   \n",
       "\n",
       "       relevent_experience enrolled_university education_level  \\\n",
       "0  Has relevent experience       no_enrollment        Graduate   \n",
       "1   No relevent experience       no_enrollment        Graduate   \n",
       "\n",
       "  major_discipline experience company_size company_type last_new_job  \\\n",
       "0             STEM        >20          NaN          NaN            1   \n",
       "1             STEM         15        50-99      Pvt Ltd           >4   \n",
       "\n",
       "   training_hours  target  \n",
       "0              36     1.0  \n",
       "1              47     0.0  "
      ]
     },
     "execution_count": 26,
     "metadata": {},
     "output_type": "execute_result"
    }
   ],
   "source": [
    "# Знакомимся с таблицей\n",
    "df.head(2)"
   ]
  },
  {
   "cell_type": "markdown",
   "id": "3256a5d1-42ce-49a9-bcca-3e8ba96f1db2",
   "metadata": {},
   "source": [
    "# 1 Проводим разведывательный анализ Датасета"
   ]
  },
  {
   "cell_type": "code",
   "execution_count": 27,
   "id": "9033eaa0-b77e-40f6-a1cf-cd843bd300f8",
   "metadata": {},
   "outputs": [
    {
     "name": "stdout",
     "output_type": "stream",
     "text": [
      "<class 'pandas.core.frame.DataFrame'>\n",
      "RangeIndex: 19158 entries, 0 to 19157\n",
      "Data columns (total 14 columns):\n",
      " #   Column                  Non-Null Count  Dtype  \n",
      "---  ------                  --------------  -----  \n",
      " 0   enrollee_id             19158 non-null  int64  \n",
      " 1   city                    19158 non-null  object \n",
      " 2   city_development_index  19158 non-null  float64\n",
      " 3   gender                  14650 non-null  object \n",
      " 4   relevent_experience     19158 non-null  object \n",
      " 5   enrolled_university     18772 non-null  object \n",
      " 6   education_level         18698 non-null  object \n",
      " 7   major_discipline        16345 non-null  object \n",
      " 8   experience              19093 non-null  object \n",
      " 9   company_size            13220 non-null  object \n",
      " 10  company_type            13018 non-null  object \n",
      " 11  last_new_job            18735 non-null  object \n",
      " 12  training_hours          19158 non-null  int64  \n",
      " 13  target                  19158 non-null  float64\n",
      "dtypes: float64(2), int64(2), object(10)\n",
      "memory usage: 2.0+ MB\n"
     ]
    }
   ],
   "source": [
    "# Смотрим на следующие аспекты датасета\n",
    "# 1 Все ли колонки имеют нужный тип данных\n",
    "# 2 Смотрим кол-во пропусков по таблице \n",
    "df.info()"
   ]
  },
  {
   "cell_type": "code",
   "execution_count": 28,
   "id": "ae9a957f-d83c-440b-bf51-c0879a08c734",
   "metadata": {},
   "outputs": [
    {
     "data": {
      "text/plain": [
       "company_type              0.320493\n",
       "company_size              0.309949\n",
       "gender                    0.235306\n",
       "major_discipline          0.146832\n",
       "education_level           0.024011\n",
       "last_new_job              0.022080\n",
       "enrolled_university       0.020148\n",
       "experience                0.003393\n",
       "enrollee_id               0.000000\n",
       "city                      0.000000\n",
       "relevent_experience       0.000000\n",
       "city_development_index    0.000000\n",
       "training_hours            0.000000\n",
       "target                    0.000000\n",
       "dtype: float64"
      ]
     },
     "execution_count": 28,
     "metadata": {},
     "output_type": "execute_result"
    }
   ],
   "source": [
    "# Вычисляем процент пропусков для каждой колонки \n",
    "df.isna().mean().sort_values(ascending = False)"
   ]
  },
  {
   "cell_type": "code",
   "execution_count": 29,
   "id": "40c8e082-441c-46a7-9eb9-3bfb42ded377",
   "metadata": {},
   "outputs": [
    {
     "data": {
      "text/html": [
       "<div>\n",
       "<style scoped>\n",
       "    .dataframe tbody tr th:only-of-type {\n",
       "        vertical-align: middle;\n",
       "    }\n",
       "\n",
       "    .dataframe tbody tr th {\n",
       "        vertical-align: top;\n",
       "    }\n",
       "\n",
       "    .dataframe thead th {\n",
       "        text-align: right;\n",
       "    }\n",
       "</style>\n",
       "<table border=\"1\" class=\"dataframe\">\n",
       "  <thead>\n",
       "    <tr style=\"text-align: right;\">\n",
       "      <th></th>\n",
       "      <th>enrollee_id</th>\n",
       "      <th>city</th>\n",
       "      <th>city_development_index</th>\n",
       "      <th>gender</th>\n",
       "      <th>relevent_experience</th>\n",
       "      <th>enrolled_university</th>\n",
       "      <th>education_level</th>\n",
       "      <th>major_discipline</th>\n",
       "      <th>experience</th>\n",
       "      <th>company_size</th>\n",
       "      <th>company_type</th>\n",
       "      <th>last_new_job</th>\n",
       "      <th>training_hours</th>\n",
       "      <th>target</th>\n",
       "    </tr>\n",
       "  </thead>\n",
       "  <tbody>\n",
       "  </tbody>\n",
       "</table>\n",
       "</div>"
      ],
      "text/plain": [
       "Empty DataFrame\n",
       "Columns: [enrollee_id, city, city_development_index, gender, relevent_experience, enrolled_university, education_level, major_discipline, experience, company_size, company_type, last_new_job, training_hours, target]\n",
       "Index: []"
      ]
     },
     "execution_count": 29,
     "metadata": {},
     "output_type": "execute_result"
    }
   ],
   "source": [
    "# Смотрим дубликаты и если они есть удаляем их, в данном случае дубликатов нет\n",
    "df[df.duplicated()]"
   ]
  },
  {
   "cell_type": "markdown",
   "id": "4d4aa17c-b2c9-4b91-83f3-7198b4853528",
   "metadata": {},
   "source": [
    "# В каких городах живет большинство программистов "
   ]
  },
  {
   "cell_type": "code",
   "execution_count": 30,
   "id": "53f5f024-aef1-4da3-8823-7ca72773086c",
   "metadata": {},
   "outputs": [],
   "source": [
    "# Добавляем dropna чтобы не потерять пустые значения и данные были достоверны\n",
    "popular_city = df.groupby(by=df.city, dropna = False)['enrollee_id'].count().reset_index().sort_values(by='enrollee_id', ascending = False).reset_index()\n",
    "popular_city.to_csv('popular_city.csv',index=True)"
   ]
  },
  {
   "cell_type": "code",
   "execution_count": 31,
   "id": "cf48ee9f-2920-4127-a42e-9ff9503b2927",
   "metadata": {},
   "outputs": [],
   "source": [
    "top_3_popular_city = popular_city.drop('index', axis = 1).head(3)"
   ]
  },
  {
   "cell_type": "code",
   "execution_count": 32,
   "id": "845ba7c9-1fbd-4290-9f43-5244c1661c40",
   "metadata": {},
   "outputs": [
    {
     "data": {
      "text/html": [
       "<div>\n",
       "<style scoped>\n",
       "    .dataframe tbody tr th:only-of-type {\n",
       "        vertical-align: middle;\n",
       "    }\n",
       "\n",
       "    .dataframe tbody tr th {\n",
       "        vertical-align: top;\n",
       "    }\n",
       "\n",
       "    .dataframe thead th {\n",
       "        text-align: right;\n",
       "    }\n",
       "</style>\n",
       "<table border=\"1\" class=\"dataframe\">\n",
       "  <thead>\n",
       "    <tr style=\"text-align: right;\">\n",
       "      <th></th>\n",
       "      <th>city</th>\n",
       "      <th>enrollee_id</th>\n",
       "    </tr>\n",
       "  </thead>\n",
       "  <tbody>\n",
       "    <tr>\n",
       "      <th>0</th>\n",
       "      <td>city_103</td>\n",
       "      <td>4355</td>\n",
       "    </tr>\n",
       "    <tr>\n",
       "      <th>1</th>\n",
       "      <td>city_21</td>\n",
       "      <td>2702</td>\n",
       "    </tr>\n",
       "    <tr>\n",
       "      <th>2</th>\n",
       "      <td>city_16</td>\n",
       "      <td>1533</td>\n",
       "    </tr>\n",
       "  </tbody>\n",
       "</table>\n",
       "</div>"
      ],
      "text/plain": [
       "       city  enrollee_id\n",
       "0  city_103         4355\n",
       "1   city_21         2702\n",
       "2   city_16         1533"
      ]
     },
     "execution_count": 32,
     "metadata": {},
     "output_type": "execute_result"
    }
   ],
   "source": [
    "top_3_popular_city"
   ]
  },
  {
   "cell_type": "code",
   "execution_count": 33,
   "id": "238dc85b-deb7-41b8-b3ab-b6645ba7c599",
   "metadata": {},
   "outputs": [],
   "source": [
    "# Остальные годода добавляем в отдельную группу\n",
    "other_cities = popular_city.loc[3:].reset_index().drop(['index', 'level_0'], axis = 1)\n",
    "\n",
    "other_cities['city'] = 'other'\n",
    "res = other_cities.groupby(by = 'city', dropna = False)['enrollee_id'].sum().reset_index()"
   ]
  },
  {
   "cell_type": "code",
   "execution_count": 34,
   "id": "0c46ba8e-efcc-4856-9e38-02f71e3f14bd",
   "metadata": {},
   "outputs": [],
   "source": [
    "fin = pd.concat([top_3_popular_city, res])\n",
    "all = fin.enrollee_id.sum()\n",
    "fin['perсent'] = round((fin.enrollee_id / all) * 100)\n",
    "result = fin[['city', 'perсent']]\n",
    "result = result.reset_index(drop=True)"
   ]
  },
  {
   "cell_type": "code",
   "execution_count": 35,
   "id": "63ee1620-8952-4a3f-b93b-d4e50c25a5ba",
   "metadata": {},
   "outputs": [
    {
     "data": {
      "text/markdown": [
       "# В каких городах живет большинство программистов "
      ],
      "text/plain": [
       "<IPython.core.display.Markdown object>"
      ]
     },
     "metadata": {},
     "output_type": "display_data"
    },
    {
     "data": {
      "text/markdown": [
       "## На основании полученной информации мы видим что около 45% программистов живут в 3 городах "
      ],
      "text/plain": [
       "<IPython.core.display.Markdown object>"
      ]
     },
     "metadata": {},
     "output_type": "display_data"
    },
    {
     "data": {
      "text/markdown": [
       "## Можем сделать предположения, что у этих 3 городов индекс города выше, чем у остальных, проверим это! "
      ],
      "text/plain": [
       "<IPython.core.display.Markdown object>"
      ]
     },
     "metadata": {},
     "output_type": "display_data"
    },
    {
     "data": {
      "text/html": [
       "<style type=\"text/css\">\n",
       "#T_c0272_row3_col1 {\n",
       "  background-color: orange;\n",
       "}\n",
       "</style>\n",
       "<table id=\"T_c0272\">\n",
       "  <thead>\n",
       "    <tr>\n",
       "      <th id=\"T_c0272_level0_col0\" class=\"col_heading level0 col0\" >city</th>\n",
       "      <th id=\"T_c0272_level0_col1\" class=\"col_heading level0 col1\" >perсent</th>\n",
       "    </tr>\n",
       "  </thead>\n",
       "  <tbody>\n",
       "    <tr>\n",
       "      <td id=\"T_c0272_row0_col0\" class=\"data row0 col0\" >city_103</td>\n",
       "      <td id=\"T_c0272_row0_col1\" class=\"data row0 col1\" >23</td>\n",
       "    </tr>\n",
       "    <tr>\n",
       "      <td id=\"T_c0272_row1_col0\" class=\"data row1 col0\" >city_21</td>\n",
       "      <td id=\"T_c0272_row1_col1\" class=\"data row1 col1\" >14</td>\n",
       "    </tr>\n",
       "    <tr>\n",
       "      <td id=\"T_c0272_row2_col0\" class=\"data row2 col0\" >city_16</td>\n",
       "      <td id=\"T_c0272_row2_col1\" class=\"data row2 col1\" >8</td>\n",
       "    </tr>\n",
       "    <tr>\n",
       "      <td id=\"T_c0272_row3_col0\" class=\"data row3 col0\" >other</td>\n",
       "      <td id=\"T_c0272_row3_col1\" class=\"data row3 col1\" >55</td>\n",
       "    </tr>\n",
       "  </tbody>\n",
       "</table>\n"
      ],
      "text/plain": [
       "<pandas.io.formats.style.Styler at 0x1ade170a000>"
      ]
     },
     "execution_count": 35,
     "metadata": {},
     "output_type": "execute_result"
    },
    {
     "data": {
      "image/png": "[encoded data removed]",
      "text/plain": [
       "<Figure size 640x480 with 1 Axes>"
      ]
     },
     "metadata": {},
     "output_type": "display_data"
    }
   ],
   "source": [
    "# Строим визуализацию\n",
    "# Возьмем для примера круговую диаграмму \n",
    "\n",
    "printmd('# В каких городах живет большинство программистов ')\n",
    "printmd('## На основании полученной информации мы видим что около 45% программистов живут в 3 городах ')\n",
    "printmd('## Можем сделать предположения, что у этих 3 городов индекс города выше, чем у остальных, проверим это! ')\n",
    "\n",
    "result.plot.pie(y='perсent', labels=result['city'], autopct='%1.1f%%')\n",
    "result.style.hide().format(precision=0, thousands= ' ').highlight_max(color = 'orange', subset = 'perсent')\n"
   ]
  },
  {
   "cell_type": "markdown",
   "id": "68921707-0b5b-43a9-be88-2ca7accdc615",
   "metadata": {},
   "source": [
    "# Смотрим на индексы городов в которых живет большинство программистов "
   ]
  },
  {
   "cell_type": "code",
   "execution_count": 36,
   "id": "f1c7a7c5-de31-4746-8560-f531fee2cfd0",
   "metadata": {},
   "outputs": [
    {
     "data": {
      "text/plain": [
       "0        0.920\n",
       "1        0.776\n",
       "2        0.624\n",
       "3        0.789\n",
       "4        0.767\n",
       "         ...  \n",
       "19153    0.878\n",
       "19154    0.920\n",
       "19155    0.920\n",
       "19156    0.802\n",
       "19157    0.855\n",
       "Name: city_development_index, Length: 19158, dtype: float64"
      ]
     },
     "execution_count": 36,
     "metadata": {},
     "output_type": "execute_result"
    }
   ],
   "source": [
    "df.city_development_index\n"
   ]
  },
  {
   "cell_type": "code",
   "execution_count": 37,
   "id": "82c297e0-6d9b-45e4-b80c-0fc8995bff56",
   "metadata": {},
   "outputs": [
    {
     "data": {
      "text/markdown": [
       "# Мы видим что количество программистов в городе напрямую влияет на то, сколько программистов живет в городе."
      ],
      "text/plain": [
       "<IPython.core.display.Markdown object>"
      ]
     },
     "metadata": {},
     "output_type": "display_data"
    },
    {
     "data": {
      "text/html": [
       "<div>\n",
       "<style scoped>\n",
       "    .dataframe tbody tr th:only-of-type {\n",
       "        vertical-align: middle;\n",
       "    }\n",
       "\n",
       "    .dataframe tbody tr th {\n",
       "        vertical-align: top;\n",
       "    }\n",
       "\n",
       "    .dataframe thead th {\n",
       "        text-align: right;\n",
       "    }\n",
       "</style>\n",
       "<table border=\"1\" class=\"dataframe\">\n",
       "  <thead>\n",
       "    <tr style=\"text-align: right;\">\n",
       "      <th></th>\n",
       "      <th>enrollee_id</th>\n",
       "      <th>city_development_index</th>\n",
       "      <th>training_hours</th>\n",
       "      <th>target</th>\n",
       "    </tr>\n",
       "  </thead>\n",
       "  <tbody>\n",
       "    <tr>\n",
       "      <th>count</th>\n",
       "      <td>19158.000000</td>\n",
       "      <td>19158.000000</td>\n",
       "      <td>19158.000000</td>\n",
       "      <td>19158.000000</td>\n",
       "    </tr>\n",
       "    <tr>\n",
       "      <th>mean</th>\n",
       "      <td>16875.358179</td>\n",
       "      <td>0.828848</td>\n",
       "      <td>65.366896</td>\n",
       "      <td>0.249348</td>\n",
       "    </tr>\n",
       "    <tr>\n",
       "      <th>std</th>\n",
       "      <td>9616.292592</td>\n",
       "      <td>0.123362</td>\n",
       "      <td>60.058462</td>\n",
       "      <td>0.432647</td>\n",
       "    </tr>\n",
       "    <tr>\n",
       "      <th>min</th>\n",
       "      <td>1.000000</td>\n",
       "      <td>0.448000</td>\n",
       "      <td>1.000000</td>\n",
       "      <td>0.000000</td>\n",
       "    </tr>\n",
       "    <tr>\n",
       "      <th>25%</th>\n",
       "      <td>8554.250000</td>\n",
       "      <td>0.740000</td>\n",
       "      <td>23.000000</td>\n",
       "      <td>0.000000</td>\n",
       "    </tr>\n",
       "    <tr>\n",
       "      <th>50%</th>\n",
       "      <td>16982.500000</td>\n",
       "      <td>0.903000</td>\n",
       "      <td>47.000000</td>\n",
       "      <td>0.000000</td>\n",
       "    </tr>\n",
       "    <tr>\n",
       "      <th>75%</th>\n",
       "      <td>25169.750000</td>\n",
       "      <td>0.920000</td>\n",
       "      <td>88.000000</td>\n",
       "      <td>0.000000</td>\n",
       "    </tr>\n",
       "    <tr>\n",
       "      <th>max</th>\n",
       "      <td>33380.000000</td>\n",
       "      <td>0.949000</td>\n",
       "      <td>336.000000</td>\n",
       "      <td>1.000000</td>\n",
       "    </tr>\n",
       "  </tbody>\n",
       "</table>\n",
       "</div>"
      ],
      "text/plain": [
       "        enrollee_id  city_development_index  training_hours        target\n",
       "count  19158.000000            19158.000000    19158.000000  19158.000000\n",
       "mean   16875.358179                0.828848       65.366896      0.249348\n",
       "std     9616.292592                0.123362       60.058462      0.432647\n",
       "min        1.000000                0.448000        1.000000      0.000000\n",
       "25%     8554.250000                0.740000       23.000000      0.000000\n",
       "50%    16982.500000                0.903000       47.000000      0.000000\n",
       "75%    25169.750000                0.920000       88.000000      0.000000\n",
       "max    33380.000000                0.949000      336.000000      1.000000"
      ]
     },
     "execution_count": 37,
     "metadata": {},
     "output_type": "execute_result"
    },
    {
     "data": {
      "image/png": "[encoded data removed]",
      "text/plain": [
       "<Figure size 640x480 with 1 Axes>"
      ]
     },
     "metadata": {},
     "output_type": "display_data"
    }
   ],
   "source": [
    "# Смотрим в разрезе развитости города где живет наибольшее число программистов\n",
    "\n",
    "\n",
    "printmd('# Мы видим что количество программистов в городе напрямую влияет на то, сколько программистов живет в городе.')\n",
    "\n",
    "df.city_development_index.hist(color = 'cyan', grid=False)\n",
    "df.describe()\n"
   ]
  },
  {
   "cell_type": "code",
   "execution_count": null,
   "id": "5552433a-e7e7-44fd-8027-a54a4355c27b",
   "metadata": {},
   "outputs": [],
   "source": [
    "\n",
    "\n",
    "\n"
   ]
  },
  {
   "cell_type": "markdown",
   "id": "cb2eb722-5378-4df3-b0a3-7a662e02e7a9",
   "metadata": {},
   "source": [
    "## Проверим гипотезу, что города \n",
    "\n",
    "\n",
    "city_103\n",
    "\n",
    "\n",
    "city_21\t\n",
    "\n",
    "\n",
    "city_16\n",
    "\n",
    "\n",
    "Имеют высокий индекс развития города\n",
    "\n",
    "Для этого применим логическую индексацию"
   ]
  },
  {
   "cell_type": "code",
   "execution_count": 40,
   "id": "5647dc1a-6f1d-47b0-bccb-7af441258d88",
   "metadata": {},
   "outputs": [
    {
     "data": {
      "text/plain": [
       "np.float64(0.92)"
      ]
     },
     "execution_count": 40,
     "metadata": {},
     "output_type": "execute_result"
    }
   ],
   "source": [
    "# Город city_103 обладает высоким уровнем развитости\n",
    "df[df.city == 'city_103']['city_development_index'].mean()"
   ]
  },
  {
   "cell_type": "code",
   "execution_count": 41,
   "id": "8069606d-8f1a-41b1-9125-4e14a6bbdc59",
   "metadata": {},
   "outputs": [
    {
     "data": {
      "text/plain": [
       "np.float64(0.6239999999999999)"
      ]
     },
     "execution_count": 41,
     "metadata": {},
     "output_type": "execute_result"
    }
   ],
   "source": [
    "# Город city_21 обладает уровнем развитости ниже среднего\n",
    "df[df.city == 'city_21']['city_development_index'].mean()"
   ]
  },
  {
   "cell_type": "code",
   "execution_count": 42,
   "id": "5ae596f3-eb06-4268-abaf-51761076e9d2",
   "metadata": {},
   "outputs": [
    {
     "data": {
      "text/plain": [
       "np.float64(0.91)"
      ]
     },
     "execution_count": 42,
     "metadata": {},
     "output_type": "execute_result"
    }
   ],
   "source": [
    "# Город city_16 обладает высоким уровнем развитости\n",
    "df[df.city == 'city_16']['city_development_index'].mean()"
   ]
  },
  {
   "cell_type": "markdown",
   "id": "900d8509-9160-4b42-8660-d1e11d8983ef",
   "metadata": {},
   "source": [
    "### Делаем вывод что уровень развитости города влияет на то, сколько программистов в нем живет\n",
    "### Однако, у нас есть city_21 где индекс ниже среднего.\n",
    "### Проверим с чем это может быть связано"
   ]
  },
  {
   "cell_type": "code",
   "execution_count": null,
   "id": "b248c3d2-6c89-47af-a463-2be65ca62ea2",
   "metadata": {},
   "outputs": [],
   "source": [
    "\n",
    "\n",
    "\n",
    "\n"
   ]
  },
  {
   "cell_type": "code",
   "execution_count": 43,
   "id": "c605e9ba-c402-46d1-935a-a05ddd43c7ca",
   "metadata": {},
   "outputs": [
    {
     "data": {
      "text/html": [
       "<div>\n",
       "<style scoped>\n",
       "    .dataframe tbody tr th:only-of-type {\n",
       "        vertical-align: middle;\n",
       "    }\n",
       "\n",
       "    .dataframe tbody tr th {\n",
       "        vertical-align: top;\n",
       "    }\n",
       "\n",
       "    .dataframe thead th {\n",
       "        text-align: right;\n",
       "    }\n",
       "</style>\n",
       "<table border=\"1\" class=\"dataframe\">\n",
       "  <thead>\n",
       "    <tr style=\"text-align: right;\">\n",
       "      <th></th>\n",
       "      <th>city</th>\n",
       "      <th>target</th>\n",
       "    </tr>\n",
       "  </thead>\n",
       "  <tbody>\n",
       "    <tr>\n",
       "      <th>64</th>\n",
       "      <td>city_21</td>\n",
       "      <td>0.591044</td>\n",
       "    </tr>\n",
       "  </tbody>\n",
       "</table>\n",
       "</div>"
      ],
      "text/plain": [
       "       city    target\n",
       "64  city_21  0.591044"
      ]
     },
     "execution_count": 43,
     "metadata": {},
     "output_type": "execute_result"
    }
   ],
   "source": [
    "# 1 Проверим процент людей, которые хотят уволиться в данном городе\n",
    "df.groupby(by=df.city)['target'].mean().reset_index(drop=False).query('city == \"city_21\"')"
   ]
  },
  {
   "cell_type": "code",
   "execution_count": 44,
   "id": "aae2e6be-ac03-4deb-8151-9e9d28ac7a34",
   "metadata": {},
   "outputs": [],
   "source": [
    "# Делаем вывод, что около 60% программистов из данного города хотят уволиться, посмотрим в рамках двух 2 городов обстоят дела с процентом людей которые хотят уволиться"
   ]
  },
  {
   "cell_type": "code",
   "execution_count": 45,
   "id": "1322e5f3-a28c-4412-b1cb-eeac7c8b35c2",
   "metadata": {},
   "outputs": [
    {
     "data": {
      "text/html": [
       "<div>\n",
       "<style scoped>\n",
       "    .dataframe tbody tr th:only-of-type {\n",
       "        vertical-align: middle;\n",
       "    }\n",
       "\n",
       "    .dataframe tbody tr th {\n",
       "        vertical-align: top;\n",
       "    }\n",
       "\n",
       "    .dataframe thead th {\n",
       "        text-align: right;\n",
       "    }\n",
       "</style>\n",
       "<table border=\"1\" class=\"dataframe\">\n",
       "  <thead>\n",
       "    <tr style=\"text-align: right;\">\n",
       "      <th></th>\n",
       "      <th>city</th>\n",
       "      <th>target</th>\n",
       "    </tr>\n",
       "  </thead>\n",
       "  <tbody>\n",
       "    <tr>\n",
       "      <th>5</th>\n",
       "      <td>city_103</td>\n",
       "      <td>0.213088</td>\n",
       "    </tr>\n",
       "  </tbody>\n",
       "</table>\n",
       "</div>"
      ],
      "text/plain": [
       "       city    target\n",
       "5  city_103  0.213088"
      ]
     },
     "execution_count": 45,
     "metadata": {},
     "output_type": "execute_result"
    }
   ],
   "source": [
    "df.groupby(by=df.city)['target'].mean().reset_index(drop=False).query('city == \"city_103\"')"
   ]
  },
  {
   "cell_type": "code",
   "execution_count": 46,
   "id": "b710b729-fe11-463b-8250-88ff45f503d1",
   "metadata": {},
   "outputs": [
    {
     "data": {
      "text/html": [
       "<div>\n",
       "<style scoped>\n",
       "    .dataframe tbody tr th:only-of-type {\n",
       "        vertical-align: middle;\n",
       "    }\n",
       "\n",
       "    .dataframe tbody tr th {\n",
       "        vertical-align: top;\n",
       "    }\n",
       "\n",
       "    .dataframe thead th {\n",
       "        text-align: right;\n",
       "    }\n",
       "</style>\n",
       "<table border=\"1\" class=\"dataframe\">\n",
       "  <thead>\n",
       "    <tr style=\"text-align: right;\">\n",
       "      <th></th>\n",
       "      <th>city</th>\n",
       "      <th>target</th>\n",
       "    </tr>\n",
       "  </thead>\n",
       "  <tbody>\n",
       "    <tr>\n",
       "      <th>48</th>\n",
       "      <td>city_16</td>\n",
       "      <td>0.116765</td>\n",
       "    </tr>\n",
       "  </tbody>\n",
       "</table>\n",
       "</div>"
      ],
      "text/plain": [
       "       city    target\n",
       "48  city_16  0.116765"
      ]
     },
     "execution_count": 46,
     "metadata": {},
     "output_type": "execute_result"
    }
   ],
   "source": [
    "df.groupby(by=df.city)['target'].mean().reset_index(drop=False).query('city == \"city_16\"')"
   ]
  },
  {
   "cell_type": "markdown",
   "id": "854495fc-aa45-4b2c-a529-9cd8d0b07a8f",
   "metadata": {},
   "source": [
    "### Основываясь на данные, делаем вывод, что в городе city_21, в котором, несмотря на, низкий индекс города, живет большое число программистов, наблюдается высокий уровень недовольства людьми их работы"
   ]
  },
  {
   "cell_type": "code",
   "execution_count": null,
   "id": "005ac464-32c4-43d0-b14c-fb15ff4fc2eb",
   "metadata": {},
   "outputs": [],
   "source": [
    "\n",
    "\n",
    "\n",
    "\n",
    "\n"
   ]
  },
  {
   "cell_type": "code",
   "execution_count": 51,
   "id": "a3879397-d302-4fe7-9d6f-3eb6c082c769",
   "metadata": {},
   "outputs": [
    {
     "data": {
      "text/html": [
       "<div>\n",
       "<style scoped>\n",
       "    .dataframe tbody tr th:only-of-type {\n",
       "        vertical-align: middle;\n",
       "    }\n",
       "\n",
       "    .dataframe tbody tr th {\n",
       "        vertical-align: top;\n",
       "    }\n",
       "\n",
       "    .dataframe thead th {\n",
       "        text-align: right;\n",
       "    }\n",
       "</style>\n",
       "<table border=\"1\" class=\"dataframe\">\n",
       "  <thead>\n",
       "    <tr style=\"text-align: right;\">\n",
       "      <th></th>\n",
       "      <th>enrollee_id</th>\n",
       "      <th>city</th>\n",
       "      <th>city_development_index</th>\n",
       "      <th>gender</th>\n",
       "      <th>relevent_experience</th>\n",
       "      <th>enrolled_university</th>\n",
       "      <th>education_level</th>\n",
       "      <th>major_discipline</th>\n",
       "      <th>experience</th>\n",
       "      <th>company_size</th>\n",
       "      <th>company_type</th>\n",
       "      <th>last_new_job</th>\n",
       "      <th>training_hours</th>\n",
       "      <th>target</th>\n",
       "    </tr>\n",
       "  </thead>\n",
       "  <tbody>\n",
       "    <tr>\n",
       "      <th>0</th>\n",
       "      <td>8949</td>\n",
       "      <td>city_103</td>\n",
       "      <td>0.920</td>\n",
       "      <td>Male</td>\n",
       "      <td>Has relevent experience</td>\n",
       "      <td>no_enrollment</td>\n",
       "      <td>Graduate</td>\n",
       "      <td>STEM</td>\n",
       "      <td>&gt;20</td>\n",
       "      <td>NaN</td>\n",
       "      <td>NaN</td>\n",
       "      <td>1</td>\n",
       "      <td>36</td>\n",
       "      <td>1.0</td>\n",
       "    </tr>\n",
       "    <tr>\n",
       "      <th>1</th>\n",
       "      <td>29725</td>\n",
       "      <td>city_40</td>\n",
       "      <td>0.776</td>\n",
       "      <td>Male</td>\n",
       "      <td>No relevent experience</td>\n",
       "      <td>no_enrollment</td>\n",
       "      <td>Graduate</td>\n",
       "      <td>STEM</td>\n",
       "      <td>15</td>\n",
       "      <td>50-99</td>\n",
       "      <td>Pvt Ltd</td>\n",
       "      <td>&gt;4</td>\n",
       "      <td>47</td>\n",
       "      <td>0.0</td>\n",
       "    </tr>\n",
       "    <tr>\n",
       "      <th>2</th>\n",
       "      <td>11561</td>\n",
       "      <td>city_21</td>\n",
       "      <td>0.624</td>\n",
       "      <td>NaN</td>\n",
       "      <td>No relevent experience</td>\n",
       "      <td>Full time course</td>\n",
       "      <td>Graduate</td>\n",
       "      <td>STEM</td>\n",
       "      <td>5</td>\n",
       "      <td>NaN</td>\n",
       "      <td>NaN</td>\n",
       "      <td>never</td>\n",
       "      <td>83</td>\n",
       "      <td>0.0</td>\n",
       "    </tr>\n",
       "    <tr>\n",
       "      <th>3</th>\n",
       "      <td>33241</td>\n",
       "      <td>city_115</td>\n",
       "      <td>0.789</td>\n",
       "      <td>NaN</td>\n",
       "      <td>No relevent experience</td>\n",
       "      <td>NaN</td>\n",
       "      <td>Graduate</td>\n",
       "      <td>Business Degree</td>\n",
       "      <td>&lt;1</td>\n",
       "      <td>NaN</td>\n",
       "      <td>Pvt Ltd</td>\n",
       "      <td>never</td>\n",
       "      <td>52</td>\n",
       "      <td>1.0</td>\n",
       "    </tr>\n",
       "    <tr>\n",
       "      <th>4</th>\n",
       "      <td>666</td>\n",
       "      <td>city_162</td>\n",
       "      <td>0.767</td>\n",
       "      <td>Male</td>\n",
       "      <td>Has relevent experience</td>\n",
       "      <td>no_enrollment</td>\n",
       "      <td>Masters</td>\n",
       "      <td>STEM</td>\n",
       "      <td>&gt;20</td>\n",
       "      <td>50-99</td>\n",
       "      <td>Funded Startup</td>\n",
       "      <td>4</td>\n",
       "      <td>8</td>\n",
       "      <td>0.0</td>\n",
       "    </tr>\n",
       "  </tbody>\n",
       "</table>\n",
       "</div>"
      ],
      "text/plain": [
       "   enrollee_id      city  city_development_index gender  \\\n",
       "0         8949  city_103                   0.920   Male   \n",
       "1        29725   city_40                   0.776   Male   \n",
       "2        11561   city_21                   0.624    NaN   \n",
       "3        33241  city_115                   0.789    NaN   \n",
       "4          666  city_162                   0.767   Male   \n",
       "\n",
       "       relevent_experience enrolled_university education_level  \\\n",
       "0  Has relevent experience       no_enrollment        Graduate   \n",
       "1   No relevent experience       no_enrollment        Graduate   \n",
       "2   No relevent experience    Full time course        Graduate   \n",
       "3   No relevent experience                 NaN        Graduate   \n",
       "4  Has relevent experience       no_enrollment         Masters   \n",
       "\n",
       "  major_discipline experience company_size    company_type last_new_job  \\\n",
       "0             STEM        >20          NaN             NaN            1   \n",
       "1             STEM         15        50-99         Pvt Ltd           >4   \n",
       "2             STEM          5          NaN             NaN        never   \n",
       "3  Business Degree         <1          NaN         Pvt Ltd        never   \n",
       "4             STEM        >20        50-99  Funded Startup            4   \n",
       "\n",
       "   training_hours  target  \n",
       "0              36     1.0  \n",
       "1              47     0.0  \n",
       "2              83     0.0  \n",
       "3              52     1.0  \n",
       "4               8     0.0  "
      ]
     },
     "execution_count": 51,
     "metadata": {},
     "output_type": "execute_result"
    }
   ],
   "source": [
    "df.head()"
   ]
  },
  {
   "cell_type": "code",
   "execution_count": 52,
   "id": "bcb904a3-c12a-4d1a-8506-b1b7c99e9a94",
   "metadata": {},
   "outputs": [
    {
     "data": {
      "text/markdown": [
       "# Смотрим сколько процентов людей и какого гендера хотят сменить работу."
      ],
      "text/plain": [
       "<IPython.core.display.Markdown object>"
      ]
     },
     "metadata": {},
     "output_type": "display_data"
    },
    {
     "data": {
      "text/markdown": [
       "### Основываясь на данные полученные выше, мы можем сделать вывод, что большиснтво программистов женского пола, хотят поменять работу."
      ],
      "text/plain": [
       "<IPython.core.display.Markdown object>"
      ]
     },
     "metadata": {},
     "output_type": "display_data"
    },
    {
     "data": {
      "text/html": [
       "<div>\n",
       "<style scoped>\n",
       "    .dataframe tbody tr th:only-of-type {\n",
       "        vertical-align: middle;\n",
       "    }\n",
       "\n",
       "    .dataframe tbody tr th {\n",
       "        vertical-align: top;\n",
       "    }\n",
       "\n",
       "    .dataframe thead th {\n",
       "        text-align: right;\n",
       "    }\n",
       "</style>\n",
       "<table border=\"1\" class=\"dataframe\">\n",
       "  <thead>\n",
       "    <tr style=\"text-align: right;\">\n",
       "      <th></th>\n",
       "      <th>gender</th>\n",
       "      <th>count</th>\n",
       "      <th>mean</th>\n",
       "    </tr>\n",
       "  </thead>\n",
       "  <tbody>\n",
       "    <tr>\n",
       "      <th>0</th>\n",
       "      <td>Female</td>\n",
       "      <td>1238</td>\n",
       "      <td>0.263328</td>\n",
       "    </tr>\n",
       "    <tr>\n",
       "      <th>1</th>\n",
       "      <td>Male</td>\n",
       "      <td>13221</td>\n",
       "      <td>0.227819</td>\n",
       "    </tr>\n",
       "    <tr>\n",
       "      <th>2</th>\n",
       "      <td>Other</td>\n",
       "      <td>191</td>\n",
       "      <td>0.261780</td>\n",
       "    </tr>\n",
       "    <tr>\n",
       "      <th>3</th>\n",
       "      <td>NaN</td>\n",
       "      <td>4508</td>\n",
       "      <td>0.308119</td>\n",
       "    </tr>\n",
       "  </tbody>\n",
       "</table>\n",
       "</div>"
      ],
      "text/plain": [
       "   gender  count      mean\n",
       "0  Female   1238  0.263328\n",
       "1    Male  13221  0.227819\n",
       "2   Other    191  0.261780\n",
       "3     NaN   4508  0.308119"
      ]
     },
     "execution_count": 52,
     "metadata": {},
     "output_type": "execute_result"
    },
    {
     "data": {
      "image/png": "[encoded data removed]",
      "text/plain": [
       "<Figure size 640x480 with 1 Axes>"
      ]
     },
     "metadata": {},
     "output_type": "display_data"
    }
   ],
   "source": [
    "printmd('# Смотрим сколько процентов людей и какого гендера хотят сменить работу.')\n",
    "printmd('### Основываясь на данные полученные выше, мы можем сделать вывод, что большиснтво программистов женского пола, хотят поменять работу.')\n",
    "\n",
    "t = df.groupby(by = 'gender', dropna = False)['target'].agg(['count', 'mean']).reset_index(drop = False)\n",
    "\n",
    "t.plot.bar(x = 'gender', y = 'mean')\n",
    "df.groupby('gender', dropna = False)['target'].agg(['count', 'mean']).reset_index(drop = False)"
   ]
  },
  {
   "cell_type": "code",
   "execution_count": null,
   "id": "fae07f9a-9243-4263-89bd-978418b65d17",
   "metadata": {},
   "outputs": [],
   "source": [
    "\n",
    "\n",
    "\n",
    "\n"
   ]
  },
  {
   "cell_type": "code",
   "execution_count": 53,
   "id": "0815f7e8-f7a9-46be-be31-d44e05c66bd0",
   "metadata": {},
   "outputs": [
    {
     "data": {
      "text/markdown": [
       "# Посмотрим как уровень образования влияет на то, хотят люди увольнятся или нет ."
      ],
      "text/plain": [
       "<IPython.core.display.Markdown object>"
      ]
     },
     "metadata": {},
     "output_type": "display_data"
    },
    {
     "data": {
      "text/markdown": [
       "## Можем сделаем вывод что большинство людей, которые хотят поменять работу, это люди со статусом образования Graduate"
      ],
      "text/plain": [
       "<IPython.core.display.Markdown object>"
      ]
     },
     "metadata": {},
     "output_type": "display_data"
    },
    {
     "data": {
      "text/html": [
       "<div>\n",
       "<style scoped>\n",
       "    .dataframe tbody tr th:only-of-type {\n",
       "        vertical-align: middle;\n",
       "    }\n",
       "\n",
       "    .dataframe tbody tr th {\n",
       "        vertical-align: top;\n",
       "    }\n",
       "\n",
       "    .dataframe thead th {\n",
       "        text-align: right;\n",
       "    }\n",
       "</style>\n",
       "<table border=\"1\" class=\"dataframe\">\n",
       "  <thead>\n",
       "    <tr style=\"text-align: right;\">\n",
       "      <th></th>\n",
       "      <th>education_level</th>\n",
       "      <th>count</th>\n",
       "      <th>mean</th>\n",
       "    </tr>\n",
       "  </thead>\n",
       "  <tbody>\n",
       "    <tr>\n",
       "      <th>0</th>\n",
       "      <td>Graduate</td>\n",
       "      <td>11598</td>\n",
       "      <td>0.279790</td>\n",
       "    </tr>\n",
       "    <tr>\n",
       "      <th>1</th>\n",
       "      <td>High School</td>\n",
       "      <td>2017</td>\n",
       "      <td>0.195340</td>\n",
       "    </tr>\n",
       "    <tr>\n",
       "      <th>2</th>\n",
       "      <td>Masters</td>\n",
       "      <td>4361</td>\n",
       "      <td>0.214400</td>\n",
       "    </tr>\n",
       "    <tr>\n",
       "      <th>3</th>\n",
       "      <td>Phd</td>\n",
       "      <td>414</td>\n",
       "      <td>0.140097</td>\n",
       "    </tr>\n",
       "    <tr>\n",
       "      <th>4</th>\n",
       "      <td>Primary School</td>\n",
       "      <td>308</td>\n",
       "      <td>0.133117</td>\n",
       "    </tr>\n",
       "    <tr>\n",
       "      <th>5</th>\n",
       "      <td>NaN</td>\n",
       "      <td>460</td>\n",
       "      <td>0.226087</td>\n",
       "    </tr>\n",
       "  </tbody>\n",
       "</table>\n",
       "</div>"
      ],
      "text/plain": [
       "  education_level  count      mean\n",
       "0        Graduate  11598  0.279790\n",
       "1     High School   2017  0.195340\n",
       "2         Masters   4361  0.214400\n",
       "3             Phd    414  0.140097\n",
       "4  Primary School    308  0.133117\n",
       "5             NaN    460  0.226087"
      ]
     },
     "execution_count": 53,
     "metadata": {},
     "output_type": "execute_result"
    },
    {
     "data": {
      "image/png": "[encoded data removed]",
      "text/plain": [
       "<Figure size 640x480 with 1 Axes>"
      ]
     },
     "metadata": {},
     "output_type": "display_data"
    }
   ],
   "source": [
    "printmd('# Посмотрим как уровень образования влияет на то, хотят люди увольнятся или нет .')\n",
    "\n",
    "printmd('## Можем сделаем вывод что большинство людей, которые хотят поменять работу, это люди со статусом образования Graduate')\n",
    "\n",
    "df.groupby('education_level', dropna = False)['target'].mean().plot(kind = 'barh')\n",
    "df.groupby('education_level', dropna = False)['target'].agg(['count', 'mean']).reset_index(drop = False)"
   ]
  },
  {
   "cell_type": "code",
   "execution_count": 54,
   "id": "3ed17627-f02e-4ef5-9737-f26944aedbe2",
   "metadata": {},
   "outputs": [
    {
     "data": {
      "text/html": [
       "<div>\n",
       "<style scoped>\n",
       "    .dataframe tbody tr th:only-of-type {\n",
       "        vertical-align: middle;\n",
       "    }\n",
       "\n",
       "    .dataframe tbody tr th {\n",
       "        vertical-align: top;\n",
       "    }\n",
       "\n",
       "    .dataframe thead th {\n",
       "        text-align: right;\n",
       "    }\n",
       "</style>\n",
       "<table border=\"1\" class=\"dataframe\">\n",
       "  <thead>\n",
       "    <tr style=\"text-align: right;\">\n",
       "      <th></th>\n",
       "      <th></th>\n",
       "      <th>count</th>\n",
       "      <th>mean</th>\n",
       "    </tr>\n",
       "    <tr>\n",
       "      <th>gender</th>\n",
       "      <th>education_level</th>\n",
       "      <th></th>\n",
       "      <th></th>\n",
       "    </tr>\n",
       "  </thead>\n",
       "  <tbody>\n",
       "    <tr>\n",
       "      <th rowspan=\"6\" valign=\"top\">Female</th>\n",
       "      <th>Graduate</th>\n",
       "      <td>773</td>\n",
       "      <td>0.279431</td>\n",
       "    </tr>\n",
       "    <tr>\n",
       "      <th>High School</th>\n",
       "      <td>67</td>\n",
       "      <td>0.268657</td>\n",
       "    </tr>\n",
       "    <tr>\n",
       "      <th>Masters</th>\n",
       "      <td>339</td>\n",
       "      <td>0.247788</td>\n",
       "    </tr>\n",
       "    <tr>\n",
       "      <th>Phd</th>\n",
       "      <td>47</td>\n",
       "      <td>0.127660</td>\n",
       "    </tr>\n",
       "    <tr>\n",
       "      <th>Primary School</th>\n",
       "      <td>4</td>\n",
       "      <td>0.250000</td>\n",
       "    </tr>\n",
       "    <tr>\n",
       "      <th>NaN</th>\n",
       "      <td>8</td>\n",
       "      <td>0.125000</td>\n",
       "    </tr>\n",
       "    <tr>\n",
       "      <th rowspan=\"6\" valign=\"top\">Male</th>\n",
       "      <th>Graduate</th>\n",
       "      <td>8144</td>\n",
       "      <td>0.257122</td>\n",
       "    </tr>\n",
       "    <tr>\n",
       "      <th>High School</th>\n",
       "      <td>1395</td>\n",
       "      <td>0.182796</td>\n",
       "    </tr>\n",
       "    <tr>\n",
       "      <th>Masters</th>\n",
       "      <td>2957</td>\n",
       "      <td>0.191410</td>\n",
       "    </tr>\n",
       "    <tr>\n",
       "      <th>Phd</th>\n",
       "      <td>280</td>\n",
       "      <td>0.132143</td>\n",
       "    </tr>\n",
       "    <tr>\n",
       "      <th>Primary School</th>\n",
       "      <td>203</td>\n",
       "      <td>0.093596</td>\n",
       "    </tr>\n",
       "    <tr>\n",
       "      <th>NaN</th>\n",
       "      <td>242</td>\n",
       "      <td>0.169421</td>\n",
       "    </tr>\n",
       "    <tr>\n",
       "      <th rowspan=\"6\" valign=\"top\">Other</th>\n",
       "      <th>Graduate</th>\n",
       "      <td>112</td>\n",
       "      <td>0.330357</td>\n",
       "    </tr>\n",
       "    <tr>\n",
       "      <th>High School</th>\n",
       "      <td>33</td>\n",
       "      <td>0.181818</td>\n",
       "    </tr>\n",
       "    <tr>\n",
       "      <th>Masters</th>\n",
       "      <td>27</td>\n",
       "      <td>0.074074</td>\n",
       "    </tr>\n",
       "    <tr>\n",
       "      <th>Phd</th>\n",
       "      <td>4</td>\n",
       "      <td>0.250000</td>\n",
       "    </tr>\n",
       "    <tr>\n",
       "      <th>Primary School</th>\n",
       "      <td>6</td>\n",
       "      <td>0.333333</td>\n",
       "    </tr>\n",
       "    <tr>\n",
       "      <th>NaN</th>\n",
       "      <td>9</td>\n",
       "      <td>0.222222</td>\n",
       "    </tr>\n",
       "    <tr>\n",
       "      <th rowspan=\"6\" valign=\"top\">NaN</th>\n",
       "      <th>Graduate</th>\n",
       "      <td>2569</td>\n",
       "      <td>0.349552</td>\n",
       "    </tr>\n",
       "    <tr>\n",
       "      <th>High School</th>\n",
       "      <td>522</td>\n",
       "      <td>0.220307</td>\n",
       "    </tr>\n",
       "    <tr>\n",
       "      <th>Masters</th>\n",
       "      <td>1038</td>\n",
       "      <td>0.272640</td>\n",
       "    </tr>\n",
       "    <tr>\n",
       "      <th>Phd</th>\n",
       "      <td>83</td>\n",
       "      <td>0.168675</td>\n",
       "    </tr>\n",
       "    <tr>\n",
       "      <th>Primary School</th>\n",
       "      <td>95</td>\n",
       "      <td>0.200000</td>\n",
       "    </tr>\n",
       "    <tr>\n",
       "      <th>NaN</th>\n",
       "      <td>201</td>\n",
       "      <td>0.298507</td>\n",
       "    </tr>\n",
       "  </tbody>\n",
       "</table>\n",
       "</div>"
      ],
      "text/plain": [
       "                        count      mean\n",
       "gender education_level                 \n",
       "Female Graduate           773  0.279431\n",
       "       High School         67  0.268657\n",
       "       Masters            339  0.247788\n",
       "       Phd                 47  0.127660\n",
       "       Primary School       4  0.250000\n",
       "       NaN                  8  0.125000\n",
       "Male   Graduate          8144  0.257122\n",
       "       High School       1395  0.182796\n",
       "       Masters           2957  0.191410\n",
       "       Phd                280  0.132143\n",
       "       Primary School     203  0.093596\n",
       "       NaN                242  0.169421\n",
       "Other  Graduate           112  0.330357\n",
       "       High School         33  0.181818\n",
       "       Masters             27  0.074074\n",
       "       Phd                  4  0.250000\n",
       "       Primary School       6  0.333333\n",
       "       NaN                  9  0.222222\n",
       "NaN    Graduate          2569  0.349552\n",
       "       High School        522  0.220307\n",
       "       Masters           1038  0.272640\n",
       "       Phd                 83  0.168675\n",
       "       Primary School      95  0.200000\n",
       "       NaN                201  0.298507"
      ]
     },
     "execution_count": 54,
     "metadata": {},
     "output_type": "execute_result"
    }
   ],
   "source": [
    "# Также можем проверить сколько людей и какого гендера получили какой уровень образования и какой процент в каждой группе хочет сменить работу\n",
    "c = df.groupby(['gender','education_level'], dropna = False)['target'].agg(['count', 'mean'])\n",
    "c"
   ]
  },
  {
   "cell_type": "markdown",
   "id": "95447fff-064e-40ed-ad24-318f3937d3a5",
   "metadata": {},
   "source": [
    "# Наш вывод,что большинство людей, которые хотят поменять работу, это люди со статусом образования Graduate, оказался правдивым и в разрезе пола"
   ]
  },
  {
   "cell_type": "code",
   "execution_count": null,
   "id": "740056b6-85ca-4404-949a-972b59705768",
   "metadata": {},
   "outputs": [],
   "source": [
    "\n",
    "\n",
    "\n",
    "\n",
    "\n"
   ]
  },
  {
   "cell_type": "markdown",
   "id": "6bb16de6-8634-4353-a12d-1420064cabd2",
   "metadata": {},
   "source": [
    "# Последние 2 гипотезы, которые мы проверим будут связаны с тем, как company_size и experience влияет на желание сменить работу"
   ]
  },
  {
   "cell_type": "code",
   "execution_count": 67,
   "id": "1c2fd45f-1a1c-473a-bd94-ed5955ced2c1",
   "metadata": {},
   "outputs": [
    {
     "data": {
      "text/markdown": [
       "# Смотрим как experience влияет на желание человека сменить работу."
      ],
      "text/plain": [
       "<IPython.core.display.Markdown object>"
      ]
     },
     "metadata": {},
     "output_type": "display_data"
    },
    {
     "data": {
      "text/markdown": [
       "## Основываясь на полученные результаты, мы делаем вывод, что опыт на прямую влияет на то хотят люди увольнятся или нет (Чем опыт ниже, тем с большей вероятностью люди хотят увольнятся)."
      ],
      "text/plain": [
       "<IPython.core.display.Markdown object>"
      ]
     },
     "metadata": {},
     "output_type": "display_data"
    },
    {
     "data": {
      "text/plain": [
       "array([[<Axes: title={'center': 'target'}>]], dtype=object)"
      ]
     },
     "execution_count": 67,
     "metadata": {},
     "output_type": "execute_result"
    },
    {
     "data": {
      "image/png": "[encoded data removed]",
      "text/plain": [
       "<Figure size 640x480 with 1 Axes>"
      ]
     },
     "metadata": {},
     "output_type": "display_data"
    }
   ],
   "source": [
    "printmd('# Смотрим как experience влияет на желание человека сменить работу.')\n",
    "printmd('## Основываясь на полученные результаты, мы делаем вывод, что опыт на прямую влияет на то хотят люди увольнятся или нет (Чем опыт ниже, тем с большей вероятностью люди хотят увольнятся).')\n",
    "\n",
    "\n",
    "df1 = df.groupby('experience', dropna=False)['target'].mean().reset_index(drop=False).sort_values(by='target', ascending = False).reset_index(drop=True)\n",
    "df1\n",
    "df1.hist()"
   ]
  },
  {
   "cell_type": "code",
   "execution_count": 73,
   "id": "e996e3be-6c4a-4e77-a9c0-cec5b9631a2b",
   "metadata": {},
   "outputs": [
    {
     "data": {
      "text/html": [
       "<div>\n",
       "<style scoped>\n",
       "    .dataframe tbody tr th:only-of-type {\n",
       "        vertical-align: middle;\n",
       "    }\n",
       "\n",
       "    .dataframe tbody tr th {\n",
       "        vertical-align: top;\n",
       "    }\n",
       "\n",
       "    .dataframe thead th {\n",
       "        text-align: right;\n",
       "    }\n",
       "</style>\n",
       "<table border=\"1\" class=\"dataframe\">\n",
       "  <thead>\n",
       "    <tr style=\"text-align: right;\">\n",
       "      <th></th>\n",
       "      <th>experience</th>\n",
       "      <th>target</th>\n",
       "    </tr>\n",
       "  </thead>\n",
       "  <tbody>\n",
       "    <tr>\n",
       "      <th>0</th>\n",
       "      <td>&lt;1</td>\n",
       "      <td>0.454023</td>\n",
       "    </tr>\n",
       "    <tr>\n",
       "      <th>1</th>\n",
       "      <td>1</td>\n",
       "      <td>0.424408</td>\n",
       "    </tr>\n",
       "    <tr>\n",
       "      <th>2</th>\n",
       "      <td>NaN</td>\n",
       "      <td>0.353846</td>\n",
       "    </tr>\n",
       "    <tr>\n",
       "      <th>3</th>\n",
       "      <td>3</td>\n",
       "      <td>0.353028</td>\n",
       "    </tr>\n",
       "    <tr>\n",
       "      <th>4</th>\n",
       "      <td>2</td>\n",
       "      <td>0.331854</td>\n",
       "    </tr>\n",
       "    <tr>\n",
       "      <th>5</th>\n",
       "      <td>4</td>\n",
       "      <td>0.325731</td>\n",
       "    </tr>\n",
       "  </tbody>\n",
       "</table>\n",
       "</div>"
      ],
      "text/plain": [
       "  experience    target\n",
       "0         <1  0.454023\n",
       "1          1  0.424408\n",
       "2        NaN  0.353846\n",
       "3          3  0.353028\n",
       "4          2  0.331854\n",
       "5          4  0.325731"
      ]
     },
     "execution_count": 73,
     "metadata": {},
     "output_type": "execute_result"
    }
   ],
   "source": [
    "df1.loc[0:5]"
   ]
  },
  {
   "cell_type": "code",
   "execution_count": null,
   "id": "4130729b-ff19-4420-a20c-45ef339a05aa",
   "metadata": {},
   "outputs": [],
   "source": [
    "\n",
    "\n",
    "\n",
    "\n",
    "\n"
   ]
  },
  {
   "cell_type": "code",
   "execution_count": 56,
   "id": "4cd70142-bc6f-4741-bc93-eeb5b388e130",
   "metadata": {},
   "outputs": [
    {
     "data": {
      "text/markdown": [
       "# Как company_size влияет на то, сколько сотрудников хотят уволиться."
      ],
      "text/plain": [
       "<IPython.core.display.Markdown object>"
      ]
     },
     "metadata": {},
     "output_type": "display_data"
    },
    {
     "data": {
      "text/markdown": [
       "## Основываясь на результат, который мы получили при группировке и агрегации можно сделать вывод, что company_size никак не влияет на процент увольнений ."
      ],
      "text/plain": [
       "<IPython.core.display.Markdown object>"
      ]
     },
     "metadata": {},
     "output_type": "display_data"
    },
    {
     "data": {
      "text/html": [
       "<div>\n",
       "<style scoped>\n",
       "    .dataframe tbody tr th:only-of-type {\n",
       "        vertical-align: middle;\n",
       "    }\n",
       "\n",
       "    .dataframe tbody tr th {\n",
       "        vertical-align: top;\n",
       "    }\n",
       "\n",
       "    .dataframe thead th {\n",
       "        text-align: right;\n",
       "    }\n",
       "</style>\n",
       "<table border=\"1\" class=\"dataframe\">\n",
       "  <thead>\n",
       "    <tr style=\"text-align: right;\">\n",
       "      <th></th>\n",
       "      <th>company_size</th>\n",
       "      <th>target</th>\n",
       "    </tr>\n",
       "  </thead>\n",
       "  <tbody>\n",
       "    <tr>\n",
       "      <th>0</th>\n",
       "      <td>NaN</td>\n",
       "      <td>0.405861</td>\n",
       "    </tr>\n",
       "    <tr>\n",
       "      <th>1</th>\n",
       "      <td>10/49</td>\n",
       "      <td>0.233855</td>\n",
       "    </tr>\n",
       "    <tr>\n",
       "      <th>2</th>\n",
       "      <td>10000+</td>\n",
       "      <td>0.190688</td>\n",
       "    </tr>\n",
       "    <tr>\n",
       "      <th>3</th>\n",
       "      <td>5000-9999</td>\n",
       "      <td>0.181172</td>\n",
       "    </tr>\n",
       "    <tr>\n",
       "      <th>4</th>\n",
       "      <td>50-99</td>\n",
       "      <td>0.176776</td>\n",
       "    </tr>\n",
       "    <tr>\n",
       "      <th>5</th>\n",
       "      <td>500-999</td>\n",
       "      <td>0.173318</td>\n",
       "    </tr>\n",
       "    <tr>\n",
       "      <th>6</th>\n",
       "      <td>&lt;10</td>\n",
       "      <td>0.171254</td>\n",
       "    </tr>\n",
       "    <tr>\n",
       "      <th>7</th>\n",
       "      <td>100-500</td>\n",
       "      <td>0.161416</td>\n",
       "    </tr>\n",
       "    <tr>\n",
       "      <th>8</th>\n",
       "      <td>1000-4999</td>\n",
       "      <td>0.150602</td>\n",
       "    </tr>\n",
       "  </tbody>\n",
       "</table>\n",
       "</div>"
      ],
      "text/plain": [
       "  company_size    target\n",
       "0          NaN  0.405861\n",
       "1        10/49  0.233855\n",
       "2       10000+  0.190688\n",
       "3    5000-9999  0.181172\n",
       "4        50-99  0.176776\n",
       "5      500-999  0.173318\n",
       "6          <10  0.171254\n",
       "7      100-500  0.161416\n",
       "8    1000-4999  0.150602"
      ]
     },
     "execution_count": 56,
     "metadata": {},
     "output_type": "execute_result"
    },
    {
     "data": {
      "image/png": "[encoded data removed]",
      "text/plain": [
       "<Figure size 640x480 with 1 Axes>"
      ]
     },
     "metadata": {},
     "output_type": "display_data"
    }
   ],
   "source": [
    "printmd('# Как company_size влияет на то, сколько сотрудников хотят уволиться.')\n",
    "\n",
    "printmd('## Основываясь на результат, который мы получили при группировке и агрегации можно сделать вывод, что company_size никак не влияет на процент увольнений .')\n",
    "\n",
    "\n",
    "df2 = df.groupby(by='company_size', dropna=False)['target'].mean().reset_index(drop=False).sort_values(by='target', ascending=False).reset_index(drop=True)\n",
    "df2.plot.line(x = 'company_size', y = 'target', color = 'orange', marker = 'x')\n",
    "df2"
   ]
  },
  {
   "cell_type": "code",
   "execution_count": null,
   "id": "513b4fb7-1048-4654-8d25-89cb7b71f9a6",
   "metadata": {},
   "outputs": [],
   "source": []
  }
 ],
 "metadata": {
  "kernelspec": {
   "display_name": "Python 3 (ipykernel)",
   "language": "python",
   "name": "python3"
  },
  "language_info": {
   "codemirror_mode": {
    "name": "ipython",
    "version": 3
   },
   "file_extension": ".py",
   "mimetype": "text/x-python",
   "name": "python",
   "nbconvert_exporter": "python",
   "pygments_lexer": "ipython3",
   "version": "3.12.2"
  }
 },
 "nbformat": 4,
 "nbformat_minor": 5
}
